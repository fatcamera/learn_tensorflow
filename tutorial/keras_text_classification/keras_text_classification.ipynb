{
 "cells": [
  {
   "cell_type": "code",
   "execution_count": 13,
   "metadata": {},
   "outputs": [
    {
     "name": "stdout",
     "output_type": "stream",
     "text": [
      "1.10.1\n"
     ]
    }
   ],
   "source": [
    "import tensorflow as tf\n",
    "from tensorflow import keras\n",
    "\n",
    "import numpy as np\n",
    "\n",
    "print(tf.__version__)\n",
    "\n",
    "import matplotlib.pyplot as plt\n",
    "%matplotlib inline"
   ]
  },
  {
   "cell_type": "code",
   "execution_count": 2,
   "metadata": {},
   "outputs": [
    {
     "name": "stdout",
     "output_type": "stream",
     "text": [
      "Downloading data from https://storage.googleapis.com/tensorflow/tf-keras-datasets/imdb.npz\n",
      "17465344/17464789 [==============================] - 9s 1us/step\n",
      "17473536/17464789 [==============================] - 9s 1us/step\n"
     ]
    }
   ],
   "source": [
    "imdb = keras.datasets.imdb\n",
    "\n",
    "(train_data, train_labels), (test_data, test_labels) = imdb.load_data(num_words=10000)"
   ]
  },
  {
   "cell_type": "code",
   "execution_count": 4,
   "metadata": {},
   "outputs": [
    {
     "name": "stdout",
     "output_type": "stream",
     "text": [
      "Downloading data from https://storage.googleapis.com/tensorflow/tf-keras-datasets/imdb_word_index.json\n",
      "1646592/1641221 [==============================] - 1s 1us/step\n",
      "1654784/1641221 [==============================] - 1s 1us/step\n"
     ]
    }
   ],
   "source": [
    "# A dictionary mapping words to an integer index\n",
    "word_index = imdb.get_word_index()\n",
    "\n",
    "# The first indices are reserved\n",
    "word_index = {k:(v+3) for k,v in word_index.items()} \n",
    "word_index[\"<PAD>\"] = 0\n",
    "word_index[\"<START>\"] = 1\n",
    "word_index[\"<UNK>\"] = 2  # unknown\n",
    "word_index[\"<UNUSED>\"] = 3\n",
    "\n",
    "reverse_word_index = dict([(value, key) for (key, value) in word_index.items()])\n",
    "\n",
    "def decode_review(text):\n",
    "    return ' '.join([reverse_word_index.get(i, '?') for i in text])"
   ]
  },
  {
   "cell_type": "code",
   "execution_count": 5,
   "metadata": {},
   "outputs": [
    {
     "data": {
      "text/plain": [
       "u\"<START> this film was just brilliant casting location scenery story direction everyone's really suited the part they played and you could just imagine being there robert <UNK> is an amazing actor and now the same being director <UNK> father came from the same scottish island as myself so i loved the fact there was a real connection with this film the witty remarks throughout the film were great it was just brilliant so much that i bought the film as soon as it was released for <UNK> and would recommend it to everyone to watch and the fly fishing was amazing really cried at the end it was so sad and you know what they say if you cry at a film it must have been good and this definitely was also <UNK> to the two little boy's that played the <UNK> of norman and paul they were just brilliant children are often left out of the <UNK> list i think because the stars that play them all grown up are such a big profile for the whole film but these children are amazing and should be praised for what they have done don't you think the whole story was so lovely because it was true and was someone's life after all that was shared with us all\""
      ]
     },
     "execution_count": 5,
     "metadata": {},
     "output_type": "execute_result"
    }
   ],
   "source": [
    "decode_review(train_data[0])"
   ]
  },
  {
   "cell_type": "code",
   "execution_count": 6,
   "metadata": {},
   "outputs": [],
   "source": [
    "train_data = keras.preprocessing.sequence.pad_sequences(train_data,\n",
    "                                                        value=word_index[\"<PAD>\"],\n",
    "                                                        padding='post',\n",
    "                                                        maxlen=256)\n",
    "\n",
    "test_data = keras.preprocessing.sequence.pad_sequences(test_data,\n",
    "                                                       value=word_index[\"<PAD>\"],\n",
    "                                                       padding='post',\n",
    "                                                       maxlen=256)"
   ]
  },
  {
   "cell_type": "code",
   "execution_count": 7,
   "metadata": {},
   "outputs": [
    {
     "name": "stdout",
     "output_type": "stream",
     "text": [
      "_________________________________________________________________\n",
      "Layer (type)                 Output Shape              Param #   \n",
      "=================================================================\n",
      "embedding (Embedding)        (None, None, 16)          160000    \n",
      "_________________________________________________________________\n",
      "global_average_pooling1d (Gl (None, 16)                0         \n",
      "_________________________________________________________________\n",
      "dense (Dense)                (None, 16)                272       \n",
      "_________________________________________________________________\n",
      "dense_1 (Dense)              (None, 1)                 17        \n",
      "=================================================================\n",
      "Total params: 160,289\n",
      "Trainable params: 160,289\n",
      "Non-trainable params: 0\n",
      "_________________________________________________________________\n"
     ]
    }
   ],
   "source": [
    "vocab_size = 10000\n",
    "\n",
    "model = keras.Sequential()\n",
    "model.add(keras.layers.Embedding(vocab_size, 16))\n",
    "model.add(keras.layers.GlobalAveragePooling1D())\n",
    "model.add(keras.layers.Dense(16, activation=tf.nn.relu))\n",
    "model.add(keras.layers.Dense(1, activation=tf.nn.sigmoid))\n",
    "\n",
    "model.summary()"
   ]
  },
  {
   "cell_type": "code",
   "execution_count": 8,
   "metadata": {},
   "outputs": [],
   "source": [
    "model.compile(optimizer=tf.train.AdamOptimizer(),\n",
    "              loss='binary_crossentropy',\n",
    "              metrics=['accuracy'])"
   ]
  },
  {
   "cell_type": "code",
   "execution_count": 9,
   "metadata": {},
   "outputs": [],
   "source": [
    "x_val = train_data[:10000]\n",
    "partial_x_train = train_data[10000:]\n",
    "\n",
    "y_val = train_labels[:10000]\n",
    "partial_y_train = train_labels[10000:]"
   ]
  },
  {
   "cell_type": "code",
   "execution_count": 10,
   "metadata": {},
   "outputs": [
    {
     "name": "stdout",
     "output_type": "stream",
     "text": [
      "Train on 15000 samples, validate on 10000 samples\n",
      "Epoch 1/40\n",
      "15000/15000 [==============================] - 1s 45us/step - loss: 0.6919 - acc: 0.5368 - val_loss: 0.6911 - val_acc: 0.5351\n",
      "Epoch 2/40\n",
      "15000/15000 [==============================] - 0s 23us/step - loss: 0.6892 - acc: 0.5831 - val_loss: 0.6877 - val_acc: 0.6194\n",
      "Epoch 3/40\n",
      "15000/15000 [==============================] - 0s 22us/step - loss: 0.6848 - acc: 0.6306 - val_loss: 0.6831 - val_acc: 0.6595\n",
      "Epoch 4/40\n",
      "15000/15000 [==============================] - 0s 23us/step - loss: 0.6789 - acc: 0.6808 - val_loss: 0.6781 - val_acc: 0.5937\n",
      "Epoch 5/40\n",
      "15000/15000 [==============================] - 0s 24us/step - loss: 0.6711 - acc: 0.7029 - val_loss: 0.6684 - val_acc: 0.7197\n",
      "Epoch 6/40\n",
      "15000/15000 [==============================] - 0s 22us/step - loss: 0.6602 - acc: 0.7371 - val_loss: 0.6570 - val_acc: 0.7263\n",
      "Epoch 7/40\n",
      "15000/15000 [==============================] - 0s 23us/step - loss: 0.6454 - acc: 0.7529 - val_loss: 0.6419 - val_acc: 0.7438\n",
      "Epoch 8/40\n",
      "15000/15000 [==============================] - 0s 23us/step - loss: 0.6265 - acc: 0.7642 - val_loss: 0.6233 - val_acc: 0.7541\n",
      "Epoch 9/40\n",
      "15000/15000 [==============================] - 0s 23us/step - loss: 0.6042 - acc: 0.7732 - val_loss: 0.6010 - val_acc: 0.7622\n",
      "Epoch 10/40\n",
      "15000/15000 [==============================] - 0s 23us/step - loss: 0.5780 - acc: 0.7893 - val_loss: 0.5762 - val_acc: 0.7780\n",
      "Epoch 11/40\n",
      "15000/15000 [==============================] - 0s 22us/step - loss: 0.5498 - acc: 0.7962 - val_loss: 0.5529 - val_acc: 0.7813\n",
      "Epoch 12/40\n",
      "15000/15000 [==============================] - 0s 22us/step - loss: 0.5212 - acc: 0.8109 - val_loss: 0.5237 - val_acc: 0.8022\n",
      "Epoch 13/40\n",
      "15000/15000 [==============================] - 0s 22us/step - loss: 0.4910 - acc: 0.8291 - val_loss: 0.4985 - val_acc: 0.8136\n",
      "Epoch 14/40\n",
      "15000/15000 [==============================] - 0s 21us/step - loss: 0.4630 - acc: 0.8397 - val_loss: 0.4739 - val_acc: 0.8249\n",
      "Epoch 15/40\n",
      "15000/15000 [==============================] - 0s 21us/step - loss: 0.4364 - acc: 0.8505 - val_loss: 0.4508 - val_acc: 0.8310\n",
      "Epoch 16/40\n",
      "15000/15000 [==============================] - 0s 21us/step - loss: 0.4122 - acc: 0.8585 - val_loss: 0.4300 - val_acc: 0.8414\n",
      "Epoch 17/40\n",
      "15000/15000 [==============================] - 0s 21us/step - loss: 0.3891 - acc: 0.8695 - val_loss: 0.4118 - val_acc: 0.8477\n",
      "Epoch 18/40\n",
      "15000/15000 [==============================] - 0s 21us/step - loss: 0.3690 - acc: 0.8762 - val_loss: 0.3956 - val_acc: 0.8523\n",
      "Epoch 19/40\n",
      "15000/15000 [==============================] - 0s 21us/step - loss: 0.3511 - acc: 0.8815 - val_loss: 0.3817 - val_acc: 0.8585\n",
      "Epoch 20/40\n",
      "15000/15000 [==============================] - 0s 22us/step - loss: 0.3350 - acc: 0.8859 - val_loss: 0.3694 - val_acc: 0.8622\n",
      "Epoch 21/40\n",
      "15000/15000 [==============================] - 0s 21us/step - loss: 0.3205 - acc: 0.8911 - val_loss: 0.3588 - val_acc: 0.8635\n",
      "Epoch 22/40\n",
      "15000/15000 [==============================] - 0s 21us/step - loss: 0.3074 - acc: 0.8961 - val_loss: 0.3496 - val_acc: 0.8677\n",
      "Epoch 23/40\n",
      "15000/15000 [==============================] - 0s 21us/step - loss: 0.2958 - acc: 0.8981 - val_loss: 0.3420 - val_acc: 0.8671\n",
      "Epoch 24/40\n",
      "15000/15000 [==============================] - 0s 22us/step - loss: 0.2845 - acc: 0.9010 - val_loss: 0.3344 - val_acc: 0.8720\n",
      "Epoch 25/40\n",
      "15000/15000 [==============================] - 0s 22us/step - loss: 0.2745 - acc: 0.9045 - val_loss: 0.3282 - val_acc: 0.8733\n",
      "Epoch 26/40\n",
      "15000/15000 [==============================] - 0s 22us/step - loss: 0.2652 - acc: 0.9077 - val_loss: 0.3229 - val_acc: 0.8740\n",
      "Epoch 27/40\n",
      "15000/15000 [==============================] - 0s 22us/step - loss: 0.2570 - acc: 0.9086 - val_loss: 0.3179 - val_acc: 0.8763\n",
      "Epoch 28/40\n",
      "15000/15000 [==============================] - 0s 22us/step - loss: 0.2485 - acc: 0.9128 - val_loss: 0.3132 - val_acc: 0.8768\n",
      "Epoch 29/40\n",
      "15000/15000 [==============================] - 0s 22us/step - loss: 0.2410 - acc: 0.9163 - val_loss: 0.3097 - val_acc: 0.8774\n",
      "Epoch 30/40\n",
      "15000/15000 [==============================] - 0s 21us/step - loss: 0.2347 - acc: 0.9163 - val_loss: 0.3061 - val_acc: 0.8782\n",
      "Epoch 31/40\n",
      "15000/15000 [==============================] - 0s 22us/step - loss: 0.2271 - acc: 0.9199 - val_loss: 0.3034 - val_acc: 0.8780\n",
      "Epoch 32/40\n",
      "15000/15000 [==============================] - 0s 24us/step - loss: 0.2214 - acc: 0.9225 - val_loss: 0.3006 - val_acc: 0.8801\n",
      "Epoch 33/40\n",
      "15000/15000 [==============================] - 0s 23us/step - loss: 0.2146 - acc: 0.9249 - val_loss: 0.2982 - val_acc: 0.8797\n",
      "Epoch 34/40\n",
      "15000/15000 [==============================] - 0s 24us/step - loss: 0.2089 - acc: 0.9271 - val_loss: 0.2966 - val_acc: 0.8805\n",
      "Epoch 35/40\n",
      "15000/15000 [==============================] - 0s 25us/step - loss: 0.2039 - acc: 0.9281 - val_loss: 0.2944 - val_acc: 0.8806\n",
      "Epoch 36/40\n",
      "15000/15000 [==============================] - 0s 23us/step - loss: 0.1981 - acc: 0.9311 - val_loss: 0.2930 - val_acc: 0.8815\n",
      "Epoch 37/40\n",
      "15000/15000 [==============================] - 0s 22us/step - loss: 0.1930 - acc: 0.9336 - val_loss: 0.2915 - val_acc: 0.8831\n",
      "Epoch 38/40\n",
      "15000/15000 [==============================] - 0s 23us/step - loss: 0.1884 - acc: 0.9357 - val_loss: 0.2904 - val_acc: 0.8828\n",
      "Epoch 39/40\n",
      "15000/15000 [==============================] - 0s 23us/step - loss: 0.1833 - acc: 0.9382 - val_loss: 0.2893 - val_acc: 0.8838\n",
      "Epoch 40/40\n",
      "15000/15000 [==============================] - 0s 22us/step - loss: 0.1788 - acc: 0.9389 - val_loss: 0.2884 - val_acc: 0.8845\n"
     ]
    }
   ],
   "source": [
    "history = model.fit(partial_x_train,\n",
    "                    partial_y_train,\n",
    "                    epochs=40,\n",
    "                    batch_size=512,\n",
    "                    validation_data=(x_val, y_val),\n",
    "                    verbose=1)"
   ]
  },
  {
   "cell_type": "code",
   "execution_count": 11,
   "metadata": {},
   "outputs": [
    {
     "name": "stdout",
     "output_type": "stream",
     "text": [
      "25000/25000 [==============================] - 0s 14us/step\n",
      "[0.30368741309165953, 0.87512]\n"
     ]
    }
   ],
   "source": [
    "results = model.evaluate(test_data, test_labels)\n",
    "\n",
    "print(results)"
   ]
  },
  {
   "cell_type": "code",
   "execution_count": 14,
   "metadata": {},
   "outputs": [
    {
     "data": {
      "image/png": "[encoded data removed]",
      "text/plain": [
       "<Figure size 432x288 with 1 Axes>"
      ]
     },
     "metadata": {
      "needs_background": "light"
     },
     "output_type": "display_data"
    }
   ],
   "source": [
    "acc = history.history['acc']\n",
    "val_acc = history.history['val_acc']\n",
    "loss = history.history['loss']\n",
    "val_loss = history.history['val_loss']\n",
    "\n",
    "epochs = range(1, len(acc) + 1)\n",
    "\n",
    "# \"bo\" is for \"blue dot\"\n",
    "plt.plot(epochs, loss, 'bo', label='Training loss')\n",
    "# b is for \"solid blue line\"\n",
    "plt.plot(epochs, val_loss, 'b', label='Validation loss')\n",
    "plt.title('Training and validation loss')\n",
    "plt.xlabel('Epochs')\n",
    "plt.ylabel('Loss')\n",
    "plt.legend()\n",
    "\n",
    "plt.show()"
   ]
  },
  {
   "cell_type": "code",
   "execution_count": 16,
   "metadata": {},
   "outputs": [
    {
     "data": {
      "image/png": "[encoded data removed]",
      "text/plain": [
       "<Figure size 432x288 with 1 Axes>"
      ]
     },
     "metadata": {
      "needs_background": "light"
     },
     "output_type": "display_data"
    }
   ],
   "source": [
    "history_dict = history.history\n",
    "acc_values = history_dict['acc']\n",
    "val_acc_values = history_dict['val_acc']\n",
    "\n",
    "plt.plot(epochs, acc, 'bo', label='Training acc')\n",
    "plt.plot(epochs, val_acc, 'b', label='Validation acc')\n",
    "plt.title('Training and validation accuracy')\n",
    "plt.xlabel('Epochs')\n",
    "plt.ylabel('Accuracy')\n",
    "plt.legend()\n",
    "\n",
    "plt.show()"
   ]
  }
 ],
 "metadata": {
  "kernelspec": {
   "display_name": "Python 2",
   "language": "python",
   "name": "python2"
  },
  "language_info": {
   "codemirror_mode": {
    "name": "ipython",
    "version": 2
   },
   "file_extension": ".py",
   "mimetype": "text/x-python",
   "name": "python",
   "nbconvert_exporter": "python",
   "pygments_lexer": "ipython2",
   "version": "2.7.14"
  }
 },
 "nbformat": 4,
 "nbformat_minor": 2
}
